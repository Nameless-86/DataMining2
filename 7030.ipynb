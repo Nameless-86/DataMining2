{
 "cells": [
  {
   "cell_type": "code",
   "execution_count": null,
   "metadata": {},
   "outputs": [],
   "source": [
    "scaler = StandardScaler()\n",
    "X_train_escalado = scaler.fit_transform(X_train)\n",
    "X_test_escalado = scaler.transform(X_test)"
   ]
  },
  {
   "cell_type": "markdown",
   "metadata": {},
   "source": [
    "# 1.7 GRID SEARCH PARA LOS PARAMETROS SOLICITADOS DE LAS SVM"
   ]
  },
  {
   "cell_type": "markdown",
   "metadata": {},
   "source": [
    "## 1.6 Costo con Kernel lineal"
   ]
  },
  {
   "cell_type": "code",
   "execution_count": null,
   "metadata": {},
   "outputs": [],
   "source": [
    "svm_params = SVC(random_state=42)\n",
    "\n",
    "# Definir los hiperparámetros\n",
    "param_grid = {\n",
    "    'C': [0.1, 1, 10, 100],\n",
    "    'kernel': ['linear'],    \n",
    "}\n",
    "\n",
    "\n",
    "grid_search = GridSearchCV(estimator=svm_params, param_grid=param_grid, scoring = ['accuracy', 'precision_macro', 'recall_macro'], refit='accuracy')\n",
    "\n",
    "\n",
    "grid_search.fit(X_train_escalado, y_train)\n",
    "\n",
    "# Obtener los mejores hiperparámetros encontrados\n",
    "best_params = grid_search.best_params_\n",
    "print('Mejores hiperparámetros:', best_params)"
   ]
  },
  {
   "cell_type": "markdown",
   "metadata": {},
   "source": [
    "## 1.7 Costo y gamma con kernel gaussiano"
   ]
  },
  {
   "cell_type": "code",
   "execution_count": null,
   "metadata": {},
   "outputs": [],
   "source": [
    "# Definición de un modelo clasificador de Random Forest\n",
    "svm_params = SVC(random_state=42)\n",
    "\n",
    "# Definir los hiperparámetros a ajustar y sus posibles valores\n",
    "param_grid = {\n",
    "    'C': [0.1, 1, 10, 100],\n",
    "    'kernel': ['rbf'],\n",
    "    'gamma': [0.001, 0.01, 0.1, 1, 10, 100],\n",
    "\n",
    "}\n",
    "\n",
    "# Configurar la búsqueda grid con validación cruzada (cross-validation)\n",
    "grid_search = GridSearchCV(estimator=svm_params, param_grid=param_grid, scoring = ['accuracy', 'precision_macro', 'recall_macro'], refit='accuracy')\n",
    "\n",
    "# Realizar la búsqueda grid en el conjunto de entrenamiento\n",
    "grid_search.fit(X_train_escalado, y_train)\n",
    "\n",
    "# Obtener los mejores hiperparámetros encontrados\n",
    "best_params = grid_search.best_params_\n",
    "print('Mejores hiperparámetros:', best_params)"
   ]
  },
  {
   "cell_type": "markdown",
   "metadata": {},
   "source": [
    "# 2.Realizar la predicción del atributo Color utilizando máquinas de vectores con kernel lineal analizando el parámetro costo"
   ]
  },
  {
   "cell_type": "markdown",
   "metadata": {},
   "source": [
    "## 2.1 SVM Con Kernel lineal y analizando el parametro costo SIN CROSSVALIDATION\n"
   ]
  },
  {
   "cell_type": "code",
   "execution_count": null,
   "metadata": {},
   "outputs": [],
   "source": [
    "svm_linear_nocross = SVC(kernel='linear', C=0.1, random_state=42)"
   ]
  },
  {
   "cell_type": "code",
   "execution_count": null,
   "metadata": {},
   "outputs": [],
   "source": [
    "svm_linear_nocross.fit(X_train_escalado, y_train)"
   ]
  },
  {
   "cell_type": "code",
   "execution_count": null,
   "metadata": {},
   "outputs": [],
   "source": [
    "# Predicciones\n",
    "y_pred_linear = svm_linear_nocross.predict(X_test_escalado)\n",
    "\n",
    "# Evaluación\n",
    "accuracy = accuracy_score(y_test, y_pred_linear)\n",
    "print(f\"Accuracy: {accuracy * 100:.2f}%\")"
   ]
  },
  {
   "cell_type": "code",
   "execution_count": null,
   "metadata": {},
   "outputs": [],
   "source": [
    "dataframe['Color'].value_counts()"
   ]
  },
  {
   "cell_type": "code",
   "execution_count": null,
   "metadata": {},
   "outputs": [],
   "source": [
    "from sklearn.metrics import classification_report\n",
    "from sklearn.metrics import confusion_matrix\n",
    "\n",
    "\n",
    "cm = (confusion_matrix(y_test, y_pred_linear))\n",
    "a = [\"Blue-Green\", \"Bluish-Green\", \"Green\"]\n",
    "\n",
    "sns.heatmap(cm, xticklabels = a, yticklabels = a,annot=True, fmt='g')\n",
    "\n",
    "print(classification_report(y_test, y_pred_linear))"
   ]
  },
  {
   "cell_type": "markdown",
   "metadata": {},
   "source": [
    "## 2.2 Kernel lineal con cross validation"
   ]
  },
  {
   "cell_type": "code",
   "execution_count": null,
   "metadata": {},
   "outputs": [],
   "source": [
    "svm = SVC(kernel='linear', C=0.1)"
   ]
  },
  {
   "cell_type": "code",
   "execution_count": null,
   "metadata": {},
   "outputs": [],
   "source": [
    "kf = StratifiedKFold(n_splits=5, shuffle=True, random_state=42)"
   ]
  },
  {
   "cell_type": "code",
   "execution_count": null,
   "metadata": {},
   "outputs": [],
   "source": [
    "fold = 1\n",
    "for i, (train_index, val_index) in enumerate(kf.split(X_train_escalado, y_train)):\n",
    "    \n",
    "    #evitar el error out of index\n",
    "    index_labels = y_train.index\n",
    "    trainsc_df = pd.DataFrame(X_train_escalado, index=index_labels)\n",
    "\n",
    "\n",
    "    X_train_fold, X_val_fold = trainsc_df.iloc[train_index], trainsc_df.iloc[val_index]\n",
    "    y_train_fold, y_val_fold = y_train.iloc[train_index], y_train.iloc[val_index]\n",
    "\n",
    "    # Train the model on the training fold\n",
    "    svm.fit(X_train_fold, y_train_fold)\n",
    "\n",
    "    # Predict on the validation fold\n",
    "    y_pred_fold = svm.predict(X_val_fold)\n",
    "\n",
    "    # Compute confusion matrix and classification report\n",
    "    cm = confusion_matrix(y_val_fold, y_pred_fold)\n",
    "    # Matriz de confusion x cada fold\n",
    "    a = [\"Blue-Green\", \"Bluish-Green\", \"Green\"]\n",
    "    sns.heatmap(cm, xticklabels=a, yticklabels=a, annot=True, fmt='g')\n",
    "    plt.title(f\"Confusion Matrix para fold numero {fold}\")\n",
    "    plt.xlabel('Predicted')\n",
    "    plt.ylabel('True')\n",
    "    plt.show()\n",
    "\n",
    "    # Print classification report\n",
    "    print(f\"Classification Report para fold numero {fold}:\\n\", classification_report(y_val_fold, y_pred_fold))\n",
    "\n",
    "    fold += 1"
   ]
  },
  {
   "cell_type": "markdown",
   "metadata": {},
   "source": [
    "- El modelo generaliza igual sobre el conjunto de test\n",
    "- ambos modelos (con y sin Cross validation) tienen recall de 1 en la clase green\n",
    "- Todos los datos de green se predicen correctamente\n",
    "- Se predicen como green algunos otros valores, pero como la cantidad de green es tan alta la accuracy es de 85% lo cual es alta\n"
   ]
  },
  {
   "cell_type": "markdown",
   "metadata": {},
   "source": [
    "# 3. Realizar la predicción del atributo Color utilizando máquinas de vectores con kernelgaussiano analizando los parámetros costo y gama\n"
   ]
  },
  {
   "cell_type": "markdown",
   "metadata": {},
   "source": [
    "## 3.1 SVM con kernel gaussiano sin cross validation"
   ]
  },
  {
   "cell_type": "code",
   "execution_count": null,
   "metadata": {},
   "outputs": [],
   "source": [
    "svm_gauss_nocross = SVC(kernel='rbf', C=0.1, random_state=42, gamma=0.001)"
   ]
  },
  {
   "cell_type": "code",
   "execution_count": null,
   "metadata": {},
   "outputs": [],
   "source": [
    "svm_gauss_nocross.fit(X_train_escalado, y_train)"
   ]
  },
  {
   "cell_type": "code",
   "execution_count": null,
   "metadata": {},
   "outputs": [],
   "source": [
    "# Predicciones\n",
    "y_pred_gauss = svm_linear_nocross.predict(X_test_escalado)\n",
    "\n",
    "# Evaluación\n",
    "accuracy = accuracy_score(y_test, y_pred_gauss)\n",
    "print(f\"Accuracy: {accuracy * 100:.2f}%\")"
   ]
  },
  {
   "cell_type": "code",
   "execution_count": null,
   "metadata": {},
   "outputs": [],
   "source": [
    "dataframe['Color'].value_counts()"
   ]
  },
  {
   "cell_type": "code",
   "execution_count": null,
   "metadata": {},
   "outputs": [],
   "source": [
    "from sklearn.metrics import classification_report\n",
    "from sklearn.metrics import confusion_matrix\n",
    "\n",
    "\n",
    "cm = (confusion_matrix(y_test, y_pred_gauss))\n",
    "a = [\"Blue-Green\", \"Bluish-Green\", \"Green\"]\n",
    "\n",
    "sns.heatmap(cm, xticklabels = a, yticklabels = a,annot=True, fmt='g')\n",
    "\n",
    "print(classification_report(y_test, y_pred_gauss))"
   ]
  },
  {
   "cell_type": "markdown",
   "metadata": {},
   "source": [
    "## 3.2 SVM con Kernel gaussiano y cross validation"
   ]
  },
  {
   "cell_type": "code",
   "execution_count": null,
   "metadata": {},
   "outputs": [],
   "source": [
    "svm_gaussiano = SVC(kernel='rbf', C=0.1, random_state=42, gamma=0.001)"
   ]
  },
  {
   "cell_type": "code",
   "execution_count": null,
   "metadata": {},
   "outputs": [],
   "source": [
    "kf = StratifiedKFold(n_splits=5, shuffle=True, random_state=42)"
   ]
  },
  {
   "cell_type": "code",
   "execution_count": null,
   "metadata": {},
   "outputs": [],
   "source": [
    "fold = 1\n",
    "for i, (train_index, val_index) in enumerate(kf.split(X_train_escalado, y_train)):\n",
    "    \n",
    "    #evitar el error out of index\n",
    "    index_labels = y_train.index\n",
    "    trainsc_df = pd.DataFrame(X_train_escalado, index=index_labels)\n",
    "\n",
    "\n",
    "    X_train_fold, X_val_fold = trainsc_df.iloc[train_index], trainsc_df.iloc[val_index]\n",
    "    y_train_fold, y_val_fold = y_train.iloc[train_index], y_train.iloc[val_index]\n",
    "\n",
    "    # Train the model on the training fold\n",
    "    svm_gaussiano.fit(X_train_fold, y_train_fold)\n",
    "\n",
    "    # Predict on the validation fold\n",
    "    y_pred_fold = svm_gaussiano.predict(X_val_fold)\n",
    "\n",
    "    # Compute confusion matrix and classification report\n",
    "    cm = confusion_matrix(y_val_fold, y_pred_fold)\n",
    "    # Matriz de confusion x cada fold\n",
    "    a = [\"Blue-Green\", \"Bluish-Green\", \"Green\"]\n",
    "    sns.heatmap(cm, xticklabels=a, yticklabels=a, annot=True, fmt='g')\n",
    "    plt.title(f\"Confusion Matrix para fold numero {fold}\")\n",
    "    plt.xlabel('Predicted')\n",
    "    plt.ylabel('True')\n",
    "    plt.show()\n",
    "\n",
    "    # Print classification report\n",
    "    print(f\"Classification Report para fold numero {fold}:\\n\", classification_report(y_val_fold, y_pred_fold))\n",
    "\n",
    "\n",
    "\n",
    "    fold += 1"
   ]
  },
  {
   "cell_type": "markdown",
   "metadata": {},
   "source": [
    "# 4. Realizar la predicción del atributo Color utilizando Random Forest analizando los parámetros cantidad de estimadores y la máxima profundidad de los árboles"
   ]
  },
  {
   "cell_type": "markdown",
   "metadata": {},
   "source": [
    "## 4.1 random forest sin cross validation"
   ]
  },
  {
   "cell_type": "code",
   "execution_count": null,
   "metadata": {},
   "outputs": [],
   "source": [
    "from sklearn import tree\n",
    "from sklearn.ensemble import RandomForestClassifier"
   ]
  },
  {
   "cell_type": "code",
   "execution_count": null,
   "metadata": {},
   "outputs": [],
   "source": [
    "forest_nocross = RandomForestClassifier(random_state=42)"
   ]
  },
  {
   "cell_type": "code",
   "execution_count": null,
   "metadata": {},
   "outputs": [],
   "source": [
    "forest_nocross.fit(X_train_escalado, y_train)"
   ]
  },
  {
   "cell_type": "code",
   "execution_count": null,
   "metadata": {},
   "outputs": [],
   "source": [
    "# Predicciones\n",
    "y_pred_forest = forest_nocross.predict(X_test_escalado)\n",
    "\n",
    "# Evaluación\n",
    "accuracy = accuracy_score(y_test, y_pred_forest)\n",
    "print(f\"Accuracy: {accuracy * 100:.2f}%\")"
   ]
  },
  {
   "cell_type": "code",
   "execution_count": null,
   "metadata": {},
   "outputs": [],
   "source": [
    "from sklearn.metrics import classification_report\n",
    "from sklearn.metrics import confusion_matrix\n",
    "\n",
    "\n",
    "cm = (confusion_matrix(y_test, y_pred_linear))\n",
    "a = [\"Blue-Green\", \"Bluish-Green\", \"Green\"]\n",
    "\n",
    "sns.heatmap(cm, xticklabels = a, yticklabels = a,annot=True, fmt='g')\n",
    "\n",
    "print(classification_report(y_test, y_pred_linear))"
   ]
  },
  {
   "cell_type": "markdown",
   "metadata": {},
   "source": [
    "## 4.2 Random forest con cross validation e hiperparametros ajustados mediante grid search"
   ]
  },
  {
   "cell_type": "code",
   "execution_count": null,
   "metadata": {},
   "outputs": [],
   "source": [
    "rf_classifier = RandomForestClassifier(random_state=42)\n",
    "\n",
    "# Definir los hiperparámetros\n",
    "param_grid = {\n",
    "    'n_estimators': [50, 100, 150],\n",
    "    'max_depth': [30, 50],\n",
    "\n",
    "}\n",
    "\n",
    "\n",
    "grid_search = GridSearchCV(estimator=rf_classifier, param_grid=param_grid, scoring = ['accuracy', 'precision_macro', 'recall_macro'], refit='accuracy')\n",
    "\n",
    "\n",
    "grid_search.fit(X_train_escalado, y_train)\n",
    "\n",
    "# Obtener los mejores hiperparámetros encontrados\n",
    "best_params = grid_search.best_params_\n",
    "print('Mejores hiperparámetros:', best_params)"
   ]
  },
  {
   "cell_type": "markdown",
   "metadata": {},
   "source": [
    "Mejores hiperparámetros: {'class_weight': 'balanced', 'max_depth': 30, 'max_features': 'sqrt', 'max_leaf_nodes': 300, 'max_samples': 50, 'min_samples_leaf': 10, 'n_estimators': 50, 'random_state': 42}"
   ]
  },
  {
   "cell_type": "code",
   "execution_count": null,
   "metadata": {},
   "outputs": [],
   "source": [
    "rand_forest = RandomForestClassifier(class_weight='balanced',max_depth= 30, max_features='sqrt', max_leaf_nodes= 300, max_samples= 50, min_samples_leaf= 10, n_estimators= 50, random_state=42)"
   ]
  },
  {
   "cell_type": "code",
   "execution_count": null,
   "metadata": {},
   "outputs": [],
   "source": [
    "kf = StratifiedKFold(n_splits=5, shuffle=True, random_state=42)"
   ]
  },
  {
   "cell_type": "code",
   "execution_count": null,
   "metadata": {},
   "outputs": [],
   "source": [
    "fold = 1\n",
    "for i, (train_index, val_index) in enumerate(kf.split(X_train_escalado, y_train)):\n",
    "    \n",
    "    #evitar el error out of index\n",
    "    index_labels = y_train.index\n",
    "    trainsc_df = pd.DataFrame(X_train_escalado, index=index_labels)\n",
    "\n",
    "\n",
    "    X_train_fold, X_val_fold = trainsc_df.iloc[train_index], trainsc_df.iloc[val_index]\n",
    "    y_train_fold, y_val_fold = y_train.iloc[train_index], y_train.iloc[val_index]\n",
    "\n",
    "    # Train the model on the training fold\n",
    "    rand_forest.fit(X_train_fold, y_train_fold)\n",
    "\n",
    "    # Predict on the validation fold\n",
    "    y_pred_fold = rand_forest.predict(X_val_fold)\n",
    "\n",
    "    # Compute confusion matrix and classification report\n",
    "    cm = confusion_matrix(y_val_fold, y_pred_fold)\n",
    "    # Matriz de confusion x cada fold\n",
    "    a = [\"Blue-Green\", \"Bluish-Green\", \"Green\"]\n",
    "    sns.heatmap(cm, xticklabels=a, yticklabels=a, annot=True, fmt='g')\n",
    "    plt.title(f\"Confusion Matrix para fold numero {fold}\")\n",
    "    plt.xlabel('Predicted')\n",
    "    plt.ylabel('True')\n",
    "    plt.show()\n",
    "\n",
    "    # Print classification report\n",
    "    print(f\"Classification Report para fold numero {fold}:\\n\", classification_report(y_val_fold, y_pred_fold))\n",
    "\n",
    "\n",
    "\n",
    "    fold += 1"
   ]
  }
 ],
 "metadata": {
  "language_info": {
   "name": "python"
  }
 },
 "nbformat": 4,
 "nbformat_minor": 2
}
