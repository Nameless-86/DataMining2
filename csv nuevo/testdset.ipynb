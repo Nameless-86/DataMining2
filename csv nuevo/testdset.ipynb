{
 "cells": [
  {
   "cell_type": "code",
   "execution_count": 1,
   "metadata": {},
   "outputs": [],
   "source": [
    "import pandas as pd"
   ]
  },
  {
   "cell_type": "code",
   "execution_count": 3,
   "metadata": {},
   "outputs": [
    {
     "name": "stdout",
     "output_type": "stream",
     "text": [
      "<class 'pandas.core.frame.DataFrame'>\n",
      "RangeIndex: 835 entries, 0 to 834\n",
      "Data columns (total 11 columns):\n",
      " #   Column                  Non-Null Count  Dtype  \n",
      "---  ------                  --------------  -----  \n",
      " 0   Data.Scores.Aroma       835 non-null    float64\n",
      " 1   Data.Scores.Flavor      835 non-null    float64\n",
      " 2   Data.Scores.Aftertaste  835 non-null    float64\n",
      " 3   Data.Scores.Acidity     835 non-null    float64\n",
      " 4   Data.Scores.Body        835 non-null    float64\n",
      " 5   Data.Scores.Balance     835 non-null    float64\n",
      " 6   Data.Scores.Uniformity  835 non-null    float64\n",
      " 7   Data.Scores.Sweetness   835 non-null    float64\n",
      " 8   Data.Scores.Moisture    835 non-null    float64\n",
      " 9   Data.Scores.Total       835 non-null    float64\n",
      " 10  Data.Color              835 non-null    object \n",
      "dtypes: float64(10), object(1)\n",
      "memory usage: 71.9+ KB\n"
     ]
    }
   ],
   "source": [
    "dataframe = pd.read_csv('cafe_limpio.csv')\n",
    "dataframe.info()"
   ]
  }
 ],
 "metadata": {
  "kernelspec": {
   "display_name": "Python 3",
   "language": "python",
   "name": "python3"
  },
  "language_info": {
   "codemirror_mode": {
    "name": "ipython",
    "version": 3
   },
   "file_extension": ".py",
   "mimetype": "text/x-python",
   "name": "python",
   "nbconvert_exporter": "python",
   "pygments_lexer": "ipython3",
   "version": "3.12.3"
  }
 },
 "nbformat": 4,
 "nbformat_minor": 2
}
